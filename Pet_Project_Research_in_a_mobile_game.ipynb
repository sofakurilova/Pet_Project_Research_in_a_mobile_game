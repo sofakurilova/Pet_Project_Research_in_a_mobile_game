{
 "cells": [
  {
   "cell_type": "markdown",
   "metadata": {},
   "source": [
    "# Проект: Исследование эффективности промокампании в мобильной игре."
   ]
  },
  {
   "cell_type": "code",
   "execution_count": 7,
   "metadata": {},
   "outputs": [],
   "source": [
    "import pandas as pd\n",
    "import numpy as np\n",
    "import seaborn as sns\n",
    "import matplotlib.pyplot as plt\n",
    "from datetime import date,timedelta,datetime\n",
    "\n",
    "from scipy.stats import mannwhitneyu\n",
    "from scipy.stats import ttest_ind\n",
    "from scipy.stats import norm\n",
    "from scipy.stats import normaltest\n",
    "from scipy.stats import levene\n",
    "from scipy.stats import chi2_contingency\n",
    "from tqdm.auto import tqdm # отображение прогресса выполнения итераций цикла в реальном времени"
   ]
  },
  {
   "cell_type": "code",
   "execution_count": 8,
   "metadata": {},
   "outputs": [],
   "source": [
    "def size_dataframe(df):\n",
    "    \"\"\"\n",
    "    Функция для определения размера датафрейма\n",
    "    \n",
    "    Параметры: \n",
    "    ----------\n",
    "    df: датафрейм\n",
    "    \n",
    "    \"\"\"\n",
    "    rows, cols = df.shape #размер \n",
    "    print(f'Размер dataframe: число строк {rows} и число столбцов {cols}')"
   ]
  },
  {
   "cell_type": "markdown",
   "metadata": {},
   "source": [
    "# Задание 1"
   ]
  },
  {
   "cell_type": "markdown",
   "metadata": {},
   "source": [
    "Задача – написать функцию, которая будет считать retention игроков (по дням от даты регистрации игрока). "
   ]
  },
  {
   "cell_type": "markdown",
   "metadata": {},
   "source": [
    "#### Считываем данные "
   ]
  },
  {
   "cell_type": "code",
   "execution_count": 9,
   "metadata": {},
   "outputs": [],
   "source": [
    "# данные о времени регистрации\n",
    "\n",
    "reg_data = pd.read_csv('/mnt/HC_Volume_18315164/home-jupyter/jupyter-s-kurilova/shared/problem1-reg_data.csv',sep = ';')"
   ]
  },
  {
   "cell_type": "code",
   "execution_count": 10,
   "metadata": {},
   "outputs": [],
   "source": [
    "# данные о времени захода пользователей в игру\n",
    "\n",
    "auth_data = pd.read_csv('/mnt/HC_Volume_18315164/home-jupyter/jupyter-s-kurilova/shared/problem1-auth_data.csv', sep = ';')"
   ]
  },
  {
   "cell_type": "markdown",
   "metadata": {},
   "source": [
    "#### Изучим информацию о данных по клиентам"
   ]
  },
  {
   "cell_type": "code",
   "execution_count": 11,
   "metadata": {},
   "outputs": [
    {
     "name": "stdout",
     "output_type": "stream",
     "text": [
      "Размер dataframe: число строк 1000000 и число столбцов 2\n"
     ]
    }
   ],
   "source": [
    "size_dataframe(reg_data)"
   ]
  },
  {
   "cell_type": "code",
   "execution_count": 12,
   "metadata": {},
   "outputs": [
    {
     "data": {
      "text/html": [
       "<div>\n",
       "<style scoped>\n",
       "    .dataframe tbody tr th:only-of-type {\n",
       "        vertical-align: middle;\n",
       "    }\n",
       "\n",
       "    .dataframe tbody tr th {\n",
       "        vertical-align: top;\n",
       "    }\n",
       "\n",
       "    .dataframe thead th {\n",
       "        text-align: right;\n",
       "    }\n",
       "</style>\n",
       "<table border=\"1\" class=\"dataframe\">\n",
       "  <thead>\n",
       "    <tr style=\"text-align: right;\">\n",
       "      <th></th>\n",
       "      <th>reg_ts</th>\n",
       "      <th>uid</th>\n",
       "    </tr>\n",
       "  </thead>\n",
       "  <tbody>\n",
       "    <tr>\n",
       "      <th>0</th>\n",
       "      <td>911382223</td>\n",
       "      <td>1</td>\n",
       "    </tr>\n",
       "    <tr>\n",
       "      <th>1</th>\n",
       "      <td>932683089</td>\n",
       "      <td>2</td>\n",
       "    </tr>\n",
       "    <tr>\n",
       "      <th>2</th>\n",
       "      <td>947802447</td>\n",
       "      <td>3</td>\n",
       "    </tr>\n",
       "    <tr>\n",
       "      <th>3</th>\n",
       "      <td>959523541</td>\n",
       "      <td>4</td>\n",
       "    </tr>\n",
       "    <tr>\n",
       "      <th>4</th>\n",
       "      <td>969103313</td>\n",
       "      <td>5</td>\n",
       "    </tr>\n",
       "  </tbody>\n",
       "</table>\n",
       "</div>"
      ],
      "text/plain": [
       "      reg_ts  uid\n",
       "0  911382223    1\n",
       "1  932683089    2\n",
       "2  947802447    3\n",
       "3  959523541    4\n",
       "4  969103313    5"
      ]
     },
     "execution_count": 12,
     "metadata": {},
     "output_type": "execute_result"
    }
   ],
   "source": [
    "reg_data.head()"
   ]
  },
  {
   "cell_type": "code",
   "execution_count": 13,
   "metadata": {},
   "outputs": [
    {
     "name": "stdout",
     "output_type": "stream",
     "text": [
      "<class 'pandas.core.frame.DataFrame'>\n",
      "RangeIndex: 1000000 entries, 0 to 999999\n",
      "Data columns (total 2 columns):\n",
      " #   Column  Non-Null Count    Dtype\n",
      "---  ------  --------------    -----\n",
      " 0   reg_ts  1000000 non-null  int64\n",
      " 1   uid     1000000 non-null  int64\n",
      "dtypes: int64(2)\n",
      "memory usage: 15.3 MB\n"
     ]
    }
   ],
   "source": [
    "reg_data.info()"
   ]
  },
  {
   "cell_type": "code",
   "execution_count": 14,
   "metadata": {},
   "outputs": [
    {
     "name": "stdout",
     "output_type": "stream",
     "text": [
      "Размер dataframe: число строк 9601013 и число столбцов 2\n"
     ]
    }
   ],
   "source": [
    "size_dataframe(auth_data)"
   ]
  },
  {
   "cell_type": "code",
   "execution_count": 15,
   "metadata": {},
   "outputs": [
    {
     "data": {
      "text/html": [
       "<div>\n",
       "<style scoped>\n",
       "    .dataframe tbody tr th:only-of-type {\n",
       "        vertical-align: middle;\n",
       "    }\n",
       "\n",
       "    .dataframe tbody tr th {\n",
       "        vertical-align: top;\n",
       "    }\n",
       "\n",
       "    .dataframe thead th {\n",
       "        text-align: right;\n",
       "    }\n",
       "</style>\n",
       "<table border=\"1\" class=\"dataframe\">\n",
       "  <thead>\n",
       "    <tr style=\"text-align: right;\">\n",
       "      <th></th>\n",
       "      <th>auth_ts</th>\n",
       "      <th>uid</th>\n",
       "    </tr>\n",
       "  </thead>\n",
       "  <tbody>\n",
       "    <tr>\n",
       "      <th>0</th>\n",
       "      <td>911382223</td>\n",
       "      <td>1</td>\n",
       "    </tr>\n",
       "    <tr>\n",
       "      <th>1</th>\n",
       "      <td>932683089</td>\n",
       "      <td>2</td>\n",
       "    </tr>\n",
       "    <tr>\n",
       "      <th>2</th>\n",
       "      <td>932921206</td>\n",
       "      <td>2</td>\n",
       "    </tr>\n",
       "    <tr>\n",
       "      <th>3</th>\n",
       "      <td>933393015</td>\n",
       "      <td>2</td>\n",
       "    </tr>\n",
       "    <tr>\n",
       "      <th>4</th>\n",
       "      <td>933875379</td>\n",
       "      <td>2</td>\n",
       "    </tr>\n",
       "  </tbody>\n",
       "</table>\n",
       "</div>"
      ],
      "text/plain": [
       "     auth_ts  uid\n",
       "0  911382223    1\n",
       "1  932683089    2\n",
       "2  932921206    2\n",
       "3  933393015    2\n",
       "4  933875379    2"
      ]
     },
     "execution_count": 15,
     "metadata": {},
     "output_type": "execute_result"
    }
   ],
   "source": [
    "auth_data.head()"
   ]
  },
  {
   "cell_type": "code",
   "execution_count": 16,
   "metadata": {},
   "outputs": [
    {
     "name": "stdout",
     "output_type": "stream",
     "text": [
      "<class 'pandas.core.frame.DataFrame'>\n",
      "RangeIndex: 9601013 entries, 0 to 9601012\n",
      "Data columns (total 2 columns):\n",
      " #   Column   Dtype\n",
      "---  ------   -----\n",
      " 0   auth_ts  int64\n",
      " 1   uid      int64\n",
      "dtypes: int64(2)\n",
      "memory usage: 146.5 MB\n"
     ]
    }
   ],
   "source": [
    "auth_data.info()"
   ]
  },
  {
   "cell_type": "markdown",
   "metadata": {},
   "source": [
    "####  Проведём поиск NaN значений"
   ]
  },
  {
   "cell_type": "code",
   "execution_count": 17,
   "metadata": {},
   "outputs": [
    {
     "data": {
      "text/plain": [
       "reg_ts    False\n",
       "uid       False\n",
       "dtype: bool"
      ]
     },
     "execution_count": 17,
     "metadata": {},
     "output_type": "execute_result"
    }
   ],
   "source": [
    "reg_data.isna().any()"
   ]
  },
  {
   "cell_type": "code",
   "execution_count": 18,
   "metadata": {},
   "outputs": [
    {
     "data": {
      "text/plain": [
       "auth_ts    False\n",
       "uid        False\n",
       "dtype: bool"
      ]
     },
     "execution_count": 18,
     "metadata": {},
     "output_type": "execute_result"
    }
   ],
   "source": [
    "auth_data.isna().any()"
   ]
  },
  {
   "cell_type": "markdown",
   "metadata": {},
   "source": [
    "- Полей, содержащих NaN значения в таблице нет "
   ]
  },
  {
   "cell_type": "markdown",
   "metadata": {},
   "source": [
    "####  Проведём поиск повторяющихся строк во всех столбцах."
   ]
  },
  {
   "cell_type": "code",
   "execution_count": 19,
   "metadata": {},
   "outputs": [
    {
     "data": {
      "text/plain": [
       "reg_ts    0\n",
       "uid       0\n",
       "dtype: int64"
      ]
     },
     "execution_count": 19,
     "metadata": {},
     "output_type": "execute_result"
    }
   ],
   "source": [
    "reg_data.loc[reg_data.duplicated( )].count()"
   ]
  },
  {
   "cell_type": "code",
   "execution_count": 20,
   "metadata": {},
   "outputs": [
    {
     "data": {
      "text/plain": [
       "auth_ts    0\n",
       "uid        0\n",
       "dtype: int64"
      ]
     },
     "execution_count": 20,
     "metadata": {},
     "output_type": "execute_result"
    }
   ],
   "source": [
    "auth_data.loc[auth_data.duplicated( )].count()"
   ]
  },
  {
   "cell_type": "markdown",
   "metadata": {},
   "source": [
    "- Повторяющихся строк не найдено"
   ]
  },
  {
   "cell_type": "markdown",
   "metadata": {},
   "source": [
    "#### Посмотрим, за какой период времени данные об регистрации пользователей."
   ]
  },
  {
   "cell_type": "code",
   "execution_count": 29,
   "metadata": {},
   "outputs": [
    {
     "name": "stdout",
     "output_type": "stream",
     "text": [
      "Данные о регистрации пользователей с 1998-11-18 по 2020-09-23\n"
     ]
    }
   ],
   "source": [
    "print('Данные о регистрации пользователей с', pd.to_datetime(reg_data['reg_ts'], unit = 's').min().date(), 'по', pd.to_datetime(reg_data['reg_ts'], unit = 's').max().date())"
   ]
  },
  {
   "cell_type": "markdown",
   "metadata": {},
   "source": [
    "## Создадим функцию для подсчёта retention по дням"
   ]
  },
  {
   "cell_type": "markdown",
   "metadata": {},
   "source": [
    "Перед проведением когортного анализа определим четыре параметра:\n",
    "\n",
    "1. Признак формирования когорты — действие, которое объединяет людей в группу: дата регистрации\n",
    "2. Размер когорты — день\n",
    "3. Отчетный период — можно  задавать самостоятельно\n",
    "4. Анализируемый ключевой показатель: Retention"
   ]
  },
  {
   "cell_type": "markdown",
   "metadata": {},
   "source": [
    "Объединим пользователей в когорты в зависимости от даты регистраци.\n",
    "\n",
    "Расчитаем метрику retention для каждой когорты и посмотрим как она менялась во времени "
   ]
  },
  {
   "cell_type": "code",
   "execution_count": 30,
   "metadata": {},
   "outputs": [],
   "source": [
    "def retention_rate(registr_data, users_auth_data, start_date, end_date ):\n",
    "    \"\"\"\n",
    "    Функция для подсчёта Retention rate по дням \n",
    "    \n",
    "    Параметры:\n",
    "    -----------\n",
    "    registr_data: данные о времени регистрации\n",
    "    users_auth_data: данные о времени захода пользователей в игру\n",
    "    start_date: дата начала отчётного периода\n",
    "    end_date: дата окончания отчётного период\n",
    "    \n",
    "    \"\"\"\n",
    "    # Cчитываем данные\n",
    "    registr_data = pd.read_csv(registr_data, sep=';')\n",
    "    users_auth_data = pd.read_csv(users_auth_data, sep=';')\n",
    "    \n",
    "    # Время в фреймах указано в формате UNIX time - это число секунд, прошедших с 1970 года. Cконвертируем время в datetime формат.\n",
    "    \n",
    "    registr_data['reg_ts'] = pd.to_datetime(registr_data['reg_ts'], unit = 's') # unit = 's',поскольку время в столбце задано в секундах\n",
    "    users_auth_data['auth_ts'] = pd.to_datetime(users_auth_data['auth_ts'], unit = 's')\n",
    "    \n",
    "    # Приведём дату к формату \"YYYY-MM-DD\".При использования метода \"dt.date\" возвращается объект типа \"datetime.date\",\n",
    "    # у pandas нет такого встроенного типа данных, поэтому он приводит колонку к типу данных \"object\". \n",
    "    # Для избежания ошибок при исследовании данных приведём столбец в формат datetime\n",
    "    registr_data['reg_ts'] = registr_data['reg_ts'].dt.date\n",
    "    registr_data['reg_ts'] = pd.to_datetime(registr_data['reg_ts'])\n",
    "    \n",
    "    users_auth_data['auth_ts'] = users_auth_data['auth_ts'].dt.date\n",
    "    users_auth_data['auth_ts'] = pd.to_datetime(users_auth_data['auth_ts'])\n",
    "    \n",
    "    # Фильтруем датафреймы, оставляем только те строки, где значения столбцов reg_ts и auth_ts находятся\n",
    "    # в диапазоне между start_date и end_date \n",
    "    # Символ \"@\" в запросе означает, что ссылаемся на переменные внутри строки \n",
    "    registr_data = registr_data.query('reg_ts >= @start_date and reg_ts <= @end_date')\n",
    "    users_auth_data = users_auth_data.query('auth_ts >= @start_date and auth_ts <= @end_date')\n",
    "    \n",
    "    # Объединим датафрейм 'registr_data' с 'users_auth_data' по столбцу 'uid'\n",
    "    union_data = registr_data.merge(users_auth_data, how = 'left', on = 'uid')\n",
    "    \n",
    "    # Группируем данные по дате регистрации -'reg_ts' и дате захода в игру - 'auth_ts' и \n",
    "    # Считаем число уникальных пользователей     \n",
    "    union_data = union_data.groupby(['reg_ts', 'auth_ts'], as_index = False)\\\n",
    "                            .agg({'uid':'nunique'})\\\n",
    "                            .rename(columns = {'uid':'count_users', 'reg_ts':'cohort_date'})\n",
    "    \n",
    "    # Создаём новый столбец с количеством дней прошедших от даты регистрации до захода в игру    \n",
    "    union_data['delta_days'] = union_data['auth_ts'] - union_data['cohort_date']\n",
    "    union_data['delta_days'] = union_data['delta_days'].dt.days\n",
    "    union_data['cohort_date'] = union_data['cohort_date'].dt.date\n",
    "    \n",
    "    # Строим сводную таблицу используя метод pivot  \n",
    "    cohort_analysis = union_data.pivot(index = 'cohort_date', columns = 'delta_days', values = 'count_users' )\n",
    "    \n",
    "    # Считаем retention rate, для этого используем функцию div() для деления датафрейма cohort_analysis на \n",
    "    # первый столбец (количество пользователей в когорте,т.е.колич. пользователей на начала периода), затем с помощью функции \n",
    "    # mul() умножаем результат на 100, чтобы получить результат в процентах. Полученный результат retention rate округляем до \n",
    "    # 2-х знаков после запятой. Метод iloc[:,0] - доступ ко всем строкам первого столбца по индексу, axis - параметр функции div\n",
    "    # axis = 0 - выполнить деление для каждой когорты по строкам\n",
    "    retention = round(cohort_analysis.div(cohort_analysis.iloc[:,0], axis = 0).mul(100), 2)\n",
    "    \n",
    "    # Визуализируем результат в виде тепловой карты\n",
    "    \n",
    "    del retention[0] # удалим первый столбец, для градации цветов \n",
    "    \n",
    "    plt.figure(figsize=(20,20)) #зададим размер области визуализации  \n",
    "    ax = sns.heatmap(data=retention.div(100, axis=0), \n",
    "                     linewidths=3, # толщина линий, разделяющихся ячейки\n",
    "                     square=True, # чтобы каждая яяейка имела квадратную форму\n",
    "                     cmap=\"Blues\",# цветовая схема \n",
    "                     annot=True, # отобразить значения в ячейках\n",
    "                     fmt='.0%', # значения в процентах без десятичной части\n",
    "                     cbar = False, # не отображать цветовую шкалу\n",
    "                     annot_kws = {\"fontsize\": 12}) # задаётся размер текста в ячейках)\n",
    "\n",
    "    ax.set_title('Retention rate, %', fontsize=35) # заголовок графика, с размером шрифта 35\n",
    "\n",
    "    ax.set_ylabel(\"Cohort\", fontsize=15) # подпись для оси y\n",
    "\n",
    "    ax.set_xlabel('Day', fontsize=15) # подпись для оси x\n",
    "    \n",
    "    return retention"
   ]
  },
  {
   "cell_type": "markdown",
   "metadata": {},
   "source": [
    "## Введите данные для подсчёта Retention по дням"
   ]
  },
  {
   "cell_type": "markdown",
   "metadata": {},
   "source": [
    "`Введите путь к файлам с данными о регистрации пользователей(reg_data) и путь к данным о заходе пользователей в игру(auth_data):`"
   ]
  },
  {
   "cell_type": "code",
   "execution_count": 31,
   "metadata": {},
   "outputs": [],
   "source": [
    "# путь к файлам с данными о регистрации пользователей и заходом в игру\n",
    "reg_data = '/mnt/HC_Volume_18315164/home-jupyter/jupyter-s-kurilova/shared/problem1-reg_data.csv'\n",
    "auth_data = '/mnt/HC_Volume_18315164/home-jupyter/jupyter-s-kurilova/shared/problem1-auth_data.csv'"
   ]
  },
  {
   "cell_type": "markdown",
   "metadata": {},
   "source": [
    "`Введите датy начала отчётного периода в формате \"YYYY-MM-DD\"(например, \"2020-06-06\") :`"
   ]
  },
  {
   "cell_type": "code",
   "execution_count": 32,
   "metadata": {},
   "outputs": [],
   "source": [
    "start_date = pd.to_datetime('2020-06-06')"
   ]
  },
  {
   "cell_type": "markdown",
   "metadata": {},
   "source": [
    "`Введите датy окончания отчётного периода в формате \"YYYY-MM-DD\"(например, \"2020-06-26\") :`"
   ]
  },
  {
   "cell_type": "code",
   "execution_count": 33,
   "metadata": {},
   "outputs": [],
   "source": [
    "end_date = pd.to_datetime('2020-06-26')"
   ]
  },
  {
   "cell_type": "markdown",
   "metadata": {},
   "source": [
    "`Воспользуемся функцией \"retention_rate\". Подробнее о функции - help(retention_rate)`"
   ]
  },
  {
   "cell_type": "code",
   "execution_count": 34,
   "metadata": {},
   "outputs": [
    {
     "data": {
      "text/html": [
       "<div>\n",
       "<style scoped>\n",
       "    .dataframe tbody tr th:only-of-type {\n",
       "        vertical-align: middle;\n",
       "    }\n",
       "\n",
       "    .dataframe tbody tr th {\n",
       "        vertical-align: top;\n",
       "    }\n",
       "\n",
       "    .dataframe thead th {\n",
       "        text-align: right;\n",
       "    }\n",
       "</style>\n",
       "<table border=\"1\" class=\"dataframe\">\n",
       "  <thead>\n",
       "    <tr style=\"text-align: right;\">\n",
       "      <th>delta_days</th>\n",
       "      <th>1</th>\n",
       "      <th>2</th>\n",
       "      <th>3</th>\n",
       "      <th>4</th>\n",
       "      <th>5</th>\n",
       "      <th>6</th>\n",
       "      <th>7</th>\n",
       "      <th>8</th>\n",
       "      <th>9</th>\n",
       "      <th>10</th>\n",
       "      <th>11</th>\n",
       "      <th>12</th>\n",
       "      <th>13</th>\n",
       "      <th>14</th>\n",
       "      <th>15</th>\n",
       "      <th>16</th>\n",
       "      <th>17</th>\n",
       "      <th>18</th>\n",
       "      <th>19</th>\n",
       "      <th>20</th>\n",
       "    </tr>\n",
       "    <tr>\n",
       "      <th>cohort_date</th>\n",
       "      <th></th>\n",
       "      <th></th>\n",
       "      <th></th>\n",
       "      <th></th>\n",
       "      <th></th>\n",
       "      <th></th>\n",
       "      <th></th>\n",
       "      <th></th>\n",
       "      <th></th>\n",
       "      <th></th>\n",
       "      <th></th>\n",
       "      <th></th>\n",
       "      <th></th>\n",
       "      <th></th>\n",
       "      <th></th>\n",
       "      <th></th>\n",
       "      <th></th>\n",
       "      <th></th>\n",
       "      <th></th>\n",
       "      <th></th>\n",
       "    </tr>\n",
       "  </thead>\n",
       "  <tbody>\n",
       "    <tr>\n",
       "      <th>2020-06-06</th>\n",
       "      <td>2.04</td>\n",
       "      <td>3.64</td>\n",
       "      <td>4.87</td>\n",
       "      <td>4.80</td>\n",
       "      <td>5.96</td>\n",
       "      <td>7.27</td>\n",
       "      <td>5.53</td>\n",
       "      <td>5.02</td>\n",
       "      <td>5.67</td>\n",
       "      <td>4.58</td>\n",
       "      <td>5.02</td>\n",
       "      <td>4.87</td>\n",
       "      <td>5.24</td>\n",
       "      <td>4.80</td>\n",
       "      <td>4.29</td>\n",
       "      <td>4.22</td>\n",
       "      <td>4.15</td>\n",
       "      <td>4.44</td>\n",
       "      <td>3.49</td>\n",
       "      <td>3.64</td>\n",
       "    </tr>\n",
       "    <tr>\n",
       "      <th>2020-06-07</th>\n",
       "      <td>1.38</td>\n",
       "      <td>4.36</td>\n",
       "      <td>5.23</td>\n",
       "      <td>4.80</td>\n",
       "      <td>5.89</td>\n",
       "      <td>5.45</td>\n",
       "      <td>6.98</td>\n",
       "      <td>4.22</td>\n",
       "      <td>5.09</td>\n",
       "      <td>5.31</td>\n",
       "      <td>5.09</td>\n",
       "      <td>4.87</td>\n",
       "      <td>5.01</td>\n",
       "      <td>4.14</td>\n",
       "      <td>4.80</td>\n",
       "      <td>4.43</td>\n",
       "      <td>3.63</td>\n",
       "      <td>3.71</td>\n",
       "      <td>4.36</td>\n",
       "      <td>NaN</td>\n",
       "    </tr>\n",
       "    <tr>\n",
       "      <th>2020-06-08</th>\n",
       "      <td>1.74</td>\n",
       "      <td>2.76</td>\n",
       "      <td>4.50</td>\n",
       "      <td>5.73</td>\n",
       "      <td>5.95</td>\n",
       "      <td>6.89</td>\n",
       "      <td>4.50</td>\n",
       "      <td>5.15</td>\n",
       "      <td>4.06</td>\n",
       "      <td>5.58</td>\n",
       "      <td>4.57</td>\n",
       "      <td>5.73</td>\n",
       "      <td>4.93</td>\n",
       "      <td>4.50</td>\n",
       "      <td>4.42</td>\n",
       "      <td>4.28</td>\n",
       "      <td>4.86</td>\n",
       "      <td>4.42</td>\n",
       "      <td>NaN</td>\n",
       "      <td>NaN</td>\n",
       "    </tr>\n",
       "    <tr>\n",
       "      <th>2020-06-09</th>\n",
       "      <td>1.88</td>\n",
       "      <td>3.84</td>\n",
       "      <td>4.13</td>\n",
       "      <td>5.94</td>\n",
       "      <td>5.29</td>\n",
       "      <td>6.66</td>\n",
       "      <td>5.72</td>\n",
       "      <td>4.63</td>\n",
       "      <td>5.21</td>\n",
       "      <td>4.92</td>\n",
       "      <td>5.07</td>\n",
       "      <td>5.58</td>\n",
       "      <td>4.85</td>\n",
       "      <td>4.71</td>\n",
       "      <td>3.69</td>\n",
       "      <td>4.78</td>\n",
       "      <td>4.06</td>\n",
       "      <td>NaN</td>\n",
       "      <td>NaN</td>\n",
       "      <td>NaN</td>\n",
       "    </tr>\n",
       "    <tr>\n",
       "      <th>2020-06-10</th>\n",
       "      <td>1.37</td>\n",
       "      <td>3.76</td>\n",
       "      <td>4.77</td>\n",
       "      <td>4.77</td>\n",
       "      <td>6.80</td>\n",
       "      <td>8.53</td>\n",
       "      <td>5.78</td>\n",
       "      <td>5.28</td>\n",
       "      <td>4.05</td>\n",
       "      <td>5.28</td>\n",
       "      <td>5.42</td>\n",
       "      <td>5.42</td>\n",
       "      <td>5.78</td>\n",
       "      <td>4.34</td>\n",
       "      <td>5.06</td>\n",
       "      <td>4.92</td>\n",
       "      <td>NaN</td>\n",
       "      <td>NaN</td>\n",
       "      <td>NaN</td>\n",
       "      <td>NaN</td>\n",
       "    </tr>\n",
       "    <tr>\n",
       "      <th>2020-06-11</th>\n",
       "      <td>1.73</td>\n",
       "      <td>4.47</td>\n",
       "      <td>3.82</td>\n",
       "      <td>6.13</td>\n",
       "      <td>5.41</td>\n",
       "      <td>7.07</td>\n",
       "      <td>6.13</td>\n",
       "      <td>5.12</td>\n",
       "      <td>5.19</td>\n",
       "      <td>5.70</td>\n",
       "      <td>5.27</td>\n",
       "      <td>4.55</td>\n",
       "      <td>4.62</td>\n",
       "      <td>3.54</td>\n",
       "      <td>4.40</td>\n",
       "      <td>NaN</td>\n",
       "      <td>NaN</td>\n",
       "      <td>NaN</td>\n",
       "      <td>NaN</td>\n",
       "      <td>NaN</td>\n",
       "    </tr>\n",
       "    <tr>\n",
       "      <th>2020-06-12</th>\n",
       "      <td>1.95</td>\n",
       "      <td>3.67</td>\n",
       "      <td>4.32</td>\n",
       "      <td>5.84</td>\n",
       "      <td>6.77</td>\n",
       "      <td>7.85</td>\n",
       "      <td>5.40</td>\n",
       "      <td>4.39</td>\n",
       "      <td>5.19</td>\n",
       "      <td>5.19</td>\n",
       "      <td>5.26</td>\n",
       "      <td>4.83</td>\n",
       "      <td>4.39</td>\n",
       "      <td>5.26</td>\n",
       "      <td>NaN</td>\n",
       "      <td>NaN</td>\n",
       "      <td>NaN</td>\n",
       "      <td>NaN</td>\n",
       "      <td>NaN</td>\n",
       "      <td>NaN</td>\n",
       "    </tr>\n",
       "    <tr>\n",
       "      <th>2020-06-13</th>\n",
       "      <td>2.01</td>\n",
       "      <td>3.31</td>\n",
       "      <td>4.60</td>\n",
       "      <td>5.11</td>\n",
       "      <td>5.40</td>\n",
       "      <td>6.76</td>\n",
       "      <td>5.47</td>\n",
       "      <td>3.96</td>\n",
       "      <td>4.82</td>\n",
       "      <td>5.25</td>\n",
       "      <td>4.24</td>\n",
       "      <td>4.82</td>\n",
       "      <td>3.60</td>\n",
       "      <td>NaN</td>\n",
       "      <td>NaN</td>\n",
       "      <td>NaN</td>\n",
       "      <td>NaN</td>\n",
       "      <td>NaN</td>\n",
       "      <td>NaN</td>\n",
       "      <td>NaN</td>\n",
       "    </tr>\n",
       "    <tr>\n",
       "      <th>2020-06-14</th>\n",
       "      <td>2.16</td>\n",
       "      <td>4.53</td>\n",
       "      <td>4.74</td>\n",
       "      <td>5.89</td>\n",
       "      <td>6.39</td>\n",
       "      <td>5.82</td>\n",
       "      <td>6.54</td>\n",
       "      <td>4.81</td>\n",
       "      <td>6.11</td>\n",
       "      <td>4.53</td>\n",
       "      <td>5.03</td>\n",
       "      <td>5.96</td>\n",
       "      <td>NaN</td>\n",
       "      <td>NaN</td>\n",
       "      <td>NaN</td>\n",
       "      <td>NaN</td>\n",
       "      <td>NaN</td>\n",
       "      <td>NaN</td>\n",
       "      <td>NaN</td>\n",
       "      <td>NaN</td>\n",
       "    </tr>\n",
       "    <tr>\n",
       "      <th>2020-06-15</th>\n",
       "      <td>2.01</td>\n",
       "      <td>3.37</td>\n",
       "      <td>5.16</td>\n",
       "      <td>5.52</td>\n",
       "      <td>5.23</td>\n",
       "      <td>5.95</td>\n",
       "      <td>5.09</td>\n",
       "      <td>4.80</td>\n",
       "      <td>5.95</td>\n",
       "      <td>4.66</td>\n",
       "      <td>5.66</td>\n",
       "      <td>NaN</td>\n",
       "      <td>NaN</td>\n",
       "      <td>NaN</td>\n",
       "      <td>NaN</td>\n",
       "      <td>NaN</td>\n",
       "      <td>NaN</td>\n",
       "      <td>NaN</td>\n",
       "      <td>NaN</td>\n",
       "      <td>NaN</td>\n",
       "    </tr>\n",
       "    <tr>\n",
       "      <th>2020-06-16</th>\n",
       "      <td>1.43</td>\n",
       "      <td>3.72</td>\n",
       "      <td>5.01</td>\n",
       "      <td>4.22</td>\n",
       "      <td>6.44</td>\n",
       "      <td>7.02</td>\n",
       "      <td>5.30</td>\n",
       "      <td>4.87</td>\n",
       "      <td>5.37</td>\n",
       "      <td>5.08</td>\n",
       "      <td>NaN</td>\n",
       "      <td>NaN</td>\n",
       "      <td>NaN</td>\n",
       "      <td>NaN</td>\n",
       "      <td>NaN</td>\n",
       "      <td>NaN</td>\n",
       "      <td>NaN</td>\n",
       "      <td>NaN</td>\n",
       "      <td>NaN</td>\n",
       "      <td>NaN</td>\n",
       "    </tr>\n",
       "    <tr>\n",
       "      <th>2020-06-17</th>\n",
       "      <td>1.50</td>\n",
       "      <td>3.43</td>\n",
       "      <td>5.22</td>\n",
       "      <td>5.00</td>\n",
       "      <td>5.15</td>\n",
       "      <td>6.86</td>\n",
       "      <td>4.86</td>\n",
       "      <td>5.58</td>\n",
       "      <td>4.72</td>\n",
       "      <td>NaN</td>\n",
       "      <td>NaN</td>\n",
       "      <td>NaN</td>\n",
       "      <td>NaN</td>\n",
       "      <td>NaN</td>\n",
       "      <td>NaN</td>\n",
       "      <td>NaN</td>\n",
       "      <td>NaN</td>\n",
       "      <td>NaN</td>\n",
       "      <td>NaN</td>\n",
       "      <td>NaN</td>\n",
       "    </tr>\n",
       "    <tr>\n",
       "      <th>2020-06-18</th>\n",
       "      <td>2.07</td>\n",
       "      <td>4.21</td>\n",
       "      <td>3.57</td>\n",
       "      <td>5.42</td>\n",
       "      <td>6.63</td>\n",
       "      <td>7.92</td>\n",
       "      <td>5.21</td>\n",
       "      <td>5.35</td>\n",
       "      <td>NaN</td>\n",
       "      <td>NaN</td>\n",
       "      <td>NaN</td>\n",
       "      <td>NaN</td>\n",
       "      <td>NaN</td>\n",
       "      <td>NaN</td>\n",
       "      <td>NaN</td>\n",
       "      <td>NaN</td>\n",
       "      <td>NaN</td>\n",
       "      <td>NaN</td>\n",
       "      <td>NaN</td>\n",
       "      <td>NaN</td>\n",
       "    </tr>\n",
       "    <tr>\n",
       "      <th>2020-06-19</th>\n",
       "      <td>1.57</td>\n",
       "      <td>4.20</td>\n",
       "      <td>5.06</td>\n",
       "      <td>6.05</td>\n",
       "      <td>5.27</td>\n",
       "      <td>7.26</td>\n",
       "      <td>6.62</td>\n",
       "      <td>NaN</td>\n",
       "      <td>NaN</td>\n",
       "      <td>NaN</td>\n",
       "      <td>NaN</td>\n",
       "      <td>NaN</td>\n",
       "      <td>NaN</td>\n",
       "      <td>NaN</td>\n",
       "      <td>NaN</td>\n",
       "      <td>NaN</td>\n",
       "      <td>NaN</td>\n",
       "      <td>NaN</td>\n",
       "      <td>NaN</td>\n",
       "      <td>NaN</td>\n",
       "    </tr>\n",
       "    <tr>\n",
       "      <th>2020-06-20</th>\n",
       "      <td>2.35</td>\n",
       "      <td>3.91</td>\n",
       "      <td>5.33</td>\n",
       "      <td>6.40</td>\n",
       "      <td>7.04</td>\n",
       "      <td>8.39</td>\n",
       "      <td>NaN</td>\n",
       "      <td>NaN</td>\n",
       "      <td>NaN</td>\n",
       "      <td>NaN</td>\n",
       "      <td>NaN</td>\n",
       "      <td>NaN</td>\n",
       "      <td>NaN</td>\n",
       "      <td>NaN</td>\n",
       "      <td>NaN</td>\n",
       "      <td>NaN</td>\n",
       "      <td>NaN</td>\n",
       "      <td>NaN</td>\n",
       "      <td>NaN</td>\n",
       "      <td>NaN</td>\n",
       "    </tr>\n",
       "    <tr>\n",
       "      <th>2020-06-21</th>\n",
       "      <td>2.56</td>\n",
       "      <td>4.05</td>\n",
       "      <td>4.47</td>\n",
       "      <td>4.83</td>\n",
       "      <td>6.10</td>\n",
       "      <td>NaN</td>\n",
       "      <td>NaN</td>\n",
       "      <td>NaN</td>\n",
       "      <td>NaN</td>\n",
       "      <td>NaN</td>\n",
       "      <td>NaN</td>\n",
       "      <td>NaN</td>\n",
       "      <td>NaN</td>\n",
       "      <td>NaN</td>\n",
       "      <td>NaN</td>\n",
       "      <td>NaN</td>\n",
       "      <td>NaN</td>\n",
       "      <td>NaN</td>\n",
       "      <td>NaN</td>\n",
       "      <td>NaN</td>\n",
       "    </tr>\n",
       "    <tr>\n",
       "      <th>2020-06-22</th>\n",
       "      <td>2.06</td>\n",
       "      <td>5.25</td>\n",
       "      <td>4.96</td>\n",
       "      <td>5.11</td>\n",
       "      <td>NaN</td>\n",
       "      <td>NaN</td>\n",
       "      <td>NaN</td>\n",
       "      <td>NaN</td>\n",
       "      <td>NaN</td>\n",
       "      <td>NaN</td>\n",
       "      <td>NaN</td>\n",
       "      <td>NaN</td>\n",
       "      <td>NaN</td>\n",
       "      <td>NaN</td>\n",
       "      <td>NaN</td>\n",
       "      <td>NaN</td>\n",
       "      <td>NaN</td>\n",
       "      <td>NaN</td>\n",
       "      <td>NaN</td>\n",
       "      <td>NaN</td>\n",
       "    </tr>\n",
       "    <tr>\n",
       "      <th>2020-06-23</th>\n",
       "      <td>2.26</td>\n",
       "      <td>4.10</td>\n",
       "      <td>4.81</td>\n",
       "      <td>NaN</td>\n",
       "      <td>NaN</td>\n",
       "      <td>NaN</td>\n",
       "      <td>NaN</td>\n",
       "      <td>NaN</td>\n",
       "      <td>NaN</td>\n",
       "      <td>NaN</td>\n",
       "      <td>NaN</td>\n",
       "      <td>NaN</td>\n",
       "      <td>NaN</td>\n",
       "      <td>NaN</td>\n",
       "      <td>NaN</td>\n",
       "      <td>NaN</td>\n",
       "      <td>NaN</td>\n",
       "      <td>NaN</td>\n",
       "      <td>NaN</td>\n",
       "      <td>NaN</td>\n",
       "    </tr>\n",
       "    <tr>\n",
       "      <th>2020-06-24</th>\n",
       "      <td>1.98</td>\n",
       "      <td>4.38</td>\n",
       "      <td>NaN</td>\n",
       "      <td>NaN</td>\n",
       "      <td>NaN</td>\n",
       "      <td>NaN</td>\n",
       "      <td>NaN</td>\n",
       "      <td>NaN</td>\n",
       "      <td>NaN</td>\n",
       "      <td>NaN</td>\n",
       "      <td>NaN</td>\n",
       "      <td>NaN</td>\n",
       "      <td>NaN</td>\n",
       "      <td>NaN</td>\n",
       "      <td>NaN</td>\n",
       "      <td>NaN</td>\n",
       "      <td>NaN</td>\n",
       "      <td>NaN</td>\n",
       "      <td>NaN</td>\n",
       "      <td>NaN</td>\n",
       "    </tr>\n",
       "    <tr>\n",
       "      <th>2020-06-25</th>\n",
       "      <td>1.76</td>\n",
       "      <td>NaN</td>\n",
       "      <td>NaN</td>\n",
       "      <td>NaN</td>\n",
       "      <td>NaN</td>\n",
       "      <td>NaN</td>\n",
       "      <td>NaN</td>\n",
       "      <td>NaN</td>\n",
       "      <td>NaN</td>\n",
       "      <td>NaN</td>\n",
       "      <td>NaN</td>\n",
       "      <td>NaN</td>\n",
       "      <td>NaN</td>\n",
       "      <td>NaN</td>\n",
       "      <td>NaN</td>\n",
       "      <td>NaN</td>\n",
       "      <td>NaN</td>\n",
       "      <td>NaN</td>\n",
       "      <td>NaN</td>\n",
       "      <td>NaN</td>\n",
       "    </tr>\n",
       "    <tr>\n",
       "      <th>2020-06-26</th>\n",
       "      <td>NaN</td>\n",
       "      <td>NaN</td>\n",
       "      <td>NaN</td>\n",
       "      <td>NaN</td>\n",
       "      <td>NaN</td>\n",
       "      <td>NaN</td>\n",
       "      <td>NaN</td>\n",
       "      <td>NaN</td>\n",
       "      <td>NaN</td>\n",
       "      <td>NaN</td>\n",
       "      <td>NaN</td>\n",
       "      <td>NaN</td>\n",
       "      <td>NaN</td>\n",
       "      <td>NaN</td>\n",
       "      <td>NaN</td>\n",
       "      <td>NaN</td>\n",
       "      <td>NaN</td>\n",
       "      <td>NaN</td>\n",
       "      <td>NaN</td>\n",
       "      <td>NaN</td>\n",
       "    </tr>\n",
       "  </tbody>\n",
       "</table>\n",
       "</div>"
      ],
      "text/plain": [
       "delta_days     1     2     3     4     5     6     7     8     9     10    11  \\\n",
       "cohort_date                                                                     \n",
       "2020-06-06   2.04  3.64  4.87  4.80  5.96  7.27  5.53  5.02  5.67  4.58  5.02   \n",
       "2020-06-07   1.38  4.36  5.23  4.80  5.89  5.45  6.98  4.22  5.09  5.31  5.09   \n",
       "2020-06-08   1.74  2.76  4.50  5.73  5.95  6.89  4.50  5.15  4.06  5.58  4.57   \n",
       "2020-06-09   1.88  3.84  4.13  5.94  5.29  6.66  5.72  4.63  5.21  4.92  5.07   \n",
       "2020-06-10   1.37  3.76  4.77  4.77  6.80  8.53  5.78  5.28  4.05  5.28  5.42   \n",
       "2020-06-11   1.73  4.47  3.82  6.13  5.41  7.07  6.13  5.12  5.19  5.70  5.27   \n",
       "2020-06-12   1.95  3.67  4.32  5.84  6.77  7.85  5.40  4.39  5.19  5.19  5.26   \n",
       "2020-06-13   2.01  3.31  4.60  5.11  5.40  6.76  5.47  3.96  4.82  5.25  4.24   \n",
       "2020-06-14   2.16  4.53  4.74  5.89  6.39  5.82  6.54  4.81  6.11  4.53  5.03   \n",
       "2020-06-15   2.01  3.37  5.16  5.52  5.23  5.95  5.09  4.80  5.95  4.66  5.66   \n",
       "2020-06-16   1.43  3.72  5.01  4.22  6.44  7.02  5.30  4.87  5.37  5.08   NaN   \n",
       "2020-06-17   1.50  3.43  5.22  5.00  5.15  6.86  4.86  5.58  4.72   NaN   NaN   \n",
       "2020-06-18   2.07  4.21  3.57  5.42  6.63  7.92  5.21  5.35   NaN   NaN   NaN   \n",
       "2020-06-19   1.57  4.20  5.06  6.05  5.27  7.26  6.62   NaN   NaN   NaN   NaN   \n",
       "2020-06-20   2.35  3.91  5.33  6.40  7.04  8.39   NaN   NaN   NaN   NaN   NaN   \n",
       "2020-06-21   2.56  4.05  4.47  4.83  6.10   NaN   NaN   NaN   NaN   NaN   NaN   \n",
       "2020-06-22   2.06  5.25  4.96  5.11   NaN   NaN   NaN   NaN   NaN   NaN   NaN   \n",
       "2020-06-23   2.26  4.10  4.81   NaN   NaN   NaN   NaN   NaN   NaN   NaN   NaN   \n",
       "2020-06-24   1.98  4.38   NaN   NaN   NaN   NaN   NaN   NaN   NaN   NaN   NaN   \n",
       "2020-06-25   1.76   NaN   NaN   NaN   NaN   NaN   NaN   NaN   NaN   NaN   NaN   \n",
       "2020-06-26    NaN   NaN   NaN   NaN   NaN   NaN   NaN   NaN   NaN   NaN   NaN   \n",
       "\n",
       "delta_days     12    13    14    15    16    17    18    19    20  \n",
       "cohort_date                                                        \n",
       "2020-06-06   4.87  5.24  4.80  4.29  4.22  4.15  4.44  3.49  3.64  \n",
       "2020-06-07   4.87  5.01  4.14  4.80  4.43  3.63  3.71  4.36   NaN  \n",
       "2020-06-08   5.73  4.93  4.50  4.42  4.28  4.86  4.42   NaN   NaN  \n",
       "2020-06-09   5.58  4.85  4.71  3.69  4.78  4.06   NaN   NaN   NaN  \n",
       "2020-06-10   5.42  5.78  4.34  5.06  4.92   NaN   NaN   NaN   NaN  \n",
       "2020-06-11   4.55  4.62  3.54  4.40   NaN   NaN   NaN   NaN   NaN  \n",
       "2020-06-12   4.83  4.39  5.26   NaN   NaN   NaN   NaN   NaN   NaN  \n",
       "2020-06-13   4.82  3.60   NaN   NaN   NaN   NaN   NaN   NaN   NaN  \n",
       "2020-06-14   5.96   NaN   NaN   NaN   NaN   NaN   NaN   NaN   NaN  \n",
       "2020-06-15    NaN   NaN   NaN   NaN   NaN   NaN   NaN   NaN   NaN  \n",
       "2020-06-16    NaN   NaN   NaN   NaN   NaN   NaN   NaN   NaN   NaN  \n",
       "2020-06-17    NaN   NaN   NaN   NaN   NaN   NaN   NaN   NaN   NaN  \n",
       "2020-06-18    NaN   NaN   NaN   NaN   NaN   NaN   NaN   NaN   NaN  \n",
       "2020-06-19    NaN   NaN   NaN   NaN   NaN   NaN   NaN   NaN   NaN  \n",
       "2020-06-20    NaN   NaN   NaN   NaN   NaN   NaN   NaN   NaN   NaN  \n",
       "2020-06-21    NaN   NaN   NaN   NaN   NaN   NaN   NaN   NaN   NaN  \n",
       "2020-06-22    NaN   NaN   NaN   NaN   NaN   NaN   NaN   NaN   NaN  \n",
       "2020-06-23    NaN   NaN   NaN   NaN   NaN   NaN   NaN   NaN   NaN  \n",
       "2020-06-24    NaN   NaN   NaN   NaN   NaN   NaN   NaN   NaN   NaN  \n",
       "2020-06-25    NaN   NaN   NaN   NaN   NaN   NaN   NaN   NaN   NaN  \n",
       "2020-06-26    NaN   NaN   NaN   NaN   NaN   NaN   NaN   NaN   NaN  "
      ]
     },
     "execution_count": 34,
     "metadata": {},
     "output_type": "execute_result"
    },
    {
     "data": {
      "image/png": "[encoded data removed]",
      "text/plain": [
       "<Figure size 1440x1440 with 1 Axes>"
      ]
     },
     "metadata": {
      "needs_background": "light"
     },
     "output_type": "display_data"
    }
   ],
   "source": [
    "retention_rate(reg_data,auth_data, start_date, end_date )"
   ]
  },
  {
   "cell_type": "markdown",
   "metadata": {},
   "source": [
    "По результатам исследования можно сказать,что пользователям, зарегистрированным в июне 2020-го года, игра неинтересна и удержать пользователей не получается."
   ]
  },
  {
   "cell_type": "markdown",
   "metadata": {},
   "source": [
    "# Задание 2\n",
    "\n",
    "Имеются результаты A/B теста, в котором двум группам пользователей предлагались различные наборы акционных предложений. Известно, что ARPU в тестовой группе выше на 5%, чем в контрольной. При этом в контрольной группе 1928 игроков из 202103 оказались платящими, а в тестовой – 1805 из 202667.\n",
    "\n",
    "Какой набор предложений можно считать лучшим? Какие метрики стоит проанализировать для принятия правильного решения и как?"
   ]
  },
  {
   "cell_type": "code",
   "execution_count": 35,
   "metadata": {},
   "outputs": [],
   "source": [
    "# считываем данные\n",
    "df = pd.read_csv('Проект_1_Задание_2.csv', sep = ';')"
   ]
  },
  {
   "cell_type": "markdown",
   "metadata": {},
   "source": [
    "#### Изучим данные "
   ]
  },
  {
   "cell_type": "code",
   "execution_count": 36,
   "metadata": {},
   "outputs": [
    {
     "data": {
      "text/html": [
       "<div>\n",
       "<style scoped>\n",
       "    .dataframe tbody tr th:only-of-type {\n",
       "        vertical-align: middle;\n",
       "    }\n",
       "\n",
       "    .dataframe tbody tr th {\n",
       "        vertical-align: top;\n",
       "    }\n",
       "\n",
       "    .dataframe thead th {\n",
       "        text-align: right;\n",
       "    }\n",
       "</style>\n",
       "<table border=\"1\" class=\"dataframe\">\n",
       "  <thead>\n",
       "    <tr style=\"text-align: right;\">\n",
       "      <th></th>\n",
       "      <th>user_id</th>\n",
       "      <th>revenue</th>\n",
       "      <th>testgroup</th>\n",
       "    </tr>\n",
       "  </thead>\n",
       "  <tbody>\n",
       "    <tr>\n",
       "      <th>0</th>\n",
       "      <td>1</td>\n",
       "      <td>0</td>\n",
       "      <td>b</td>\n",
       "    </tr>\n",
       "    <tr>\n",
       "      <th>1</th>\n",
       "      <td>2</td>\n",
       "      <td>0</td>\n",
       "      <td>a</td>\n",
       "    </tr>\n",
       "    <tr>\n",
       "      <th>2</th>\n",
       "      <td>3</td>\n",
       "      <td>0</td>\n",
       "      <td>a</td>\n",
       "    </tr>\n",
       "    <tr>\n",
       "      <th>3</th>\n",
       "      <td>4</td>\n",
       "      <td>0</td>\n",
       "      <td>b</td>\n",
       "    </tr>\n",
       "    <tr>\n",
       "      <th>4</th>\n",
       "      <td>5</td>\n",
       "      <td>0</td>\n",
       "      <td>b</td>\n",
       "    </tr>\n",
       "  </tbody>\n",
       "</table>\n",
       "</div>"
      ],
      "text/plain": [
       "   user_id  revenue testgroup\n",
       "0        1        0         b\n",
       "1        2        0         a\n",
       "2        3        0         a\n",
       "3        4        0         b\n",
       "4        5        0         b"
      ]
     },
     "execution_count": 36,
     "metadata": {},
     "output_type": "execute_result"
    }
   ],
   "source": [
    "df.head()"
   ]
  },
  {
   "cell_type": "code",
   "execution_count": 37,
   "metadata": {},
   "outputs": [
    {
     "name": "stdout",
     "output_type": "stream",
     "text": [
      "Размер dataframe: число строк 404770 и число столбцов 3\n"
     ]
    }
   ],
   "source": [
    "size_dataframe(df)"
   ]
  },
  {
   "cell_type": "code",
   "execution_count": 38,
   "metadata": {},
   "outputs": [
    {
     "name": "stdout",
     "output_type": "stream",
     "text": [
      "<class 'pandas.core.frame.DataFrame'>\n",
      "RangeIndex: 404770 entries, 0 to 404769\n",
      "Data columns (total 3 columns):\n",
      " #   Column     Non-Null Count   Dtype \n",
      "---  ------     --------------   ----- \n",
      " 0   user_id    404770 non-null  int64 \n",
      " 1   revenue    404770 non-null  int64 \n",
      " 2   testgroup  404770 non-null  object\n",
      "dtypes: int64(2), object(1)\n",
      "memory usage: 9.3+ MB\n"
     ]
    }
   ],
   "source": [
    "df.info()"
   ]
  },
  {
   "cell_type": "code",
   "execution_count": 39,
   "metadata": {},
   "outputs": [
    {
     "data": {
      "text/plain": [
       "404770"
      ]
     },
     "execution_count": 39,
     "metadata": {},
     "output_type": "execute_result"
    }
   ],
   "source": [
    "df.user_id.nunique()"
   ]
  },
  {
   "cell_type": "code",
   "execution_count": 40,
   "metadata": {
    "scrolled": true
   },
   "outputs": [
    {
     "data": {
      "text/html": [
       "<div>\n",
       "<style scoped>\n",
       "    .dataframe tbody tr th:only-of-type {\n",
       "        vertical-align: middle;\n",
       "    }\n",
       "\n",
       "    .dataframe tbody tr th {\n",
       "        vertical-align: top;\n",
       "    }\n",
       "\n",
       "    .dataframe thead th {\n",
       "        text-align: right;\n",
       "    }\n",
       "</style>\n",
       "<table border=\"1\" class=\"dataframe\">\n",
       "  <thead>\n",
       "    <tr style=\"text-align: right;\">\n",
       "      <th></th>\n",
       "      <th>testgroup</th>\n",
       "      <th>revenue</th>\n",
       "    </tr>\n",
       "  </thead>\n",
       "  <tbody>\n",
       "    <tr>\n",
       "      <th>0</th>\n",
       "      <td>a</td>\n",
       "      <td>202103</td>\n",
       "    </tr>\n",
       "    <tr>\n",
       "      <th>1</th>\n",
       "      <td>b</td>\n",
       "      <td>202667</td>\n",
       "    </tr>\n",
       "  </tbody>\n",
       "</table>\n",
       "</div>"
      ],
      "text/plain": [
       "  testgroup  revenue\n",
       "0         a   202103\n",
       "1         b   202667"
      ]
     },
     "execution_count": 40,
     "metadata": {},
     "output_type": "execute_result"
    }
   ],
   "source": [
    "df.groupby('testgroup', as_index = False).agg({'revenue':'count'})"
   ]
  },
  {
   "cell_type": "markdown",
   "metadata": {},
   "source": [
    "Типы данных определены верно, NaN значения отсутствуют, дублирующих строк нет. Группа \"А\" является контрольной группой, а группа \"В\" - тестовой группойю Данные готовы для дальнейшего анализа."
   ]
  },
  {
   "cell_type": "code",
   "execution_count": 41,
   "metadata": {},
   "outputs": [
    {
     "data": {
      "text/html": [
       "<div>\n",
       "<style scoped>\n",
       "    .dataframe tbody tr th:only-of-type {\n",
       "        vertical-align: middle;\n",
       "    }\n",
       "\n",
       "    .dataframe tbody tr th {\n",
       "        vertical-align: top;\n",
       "    }\n",
       "\n",
       "    .dataframe thead tr th {\n",
       "        text-align: left;\n",
       "    }\n",
       "</style>\n",
       "<table border=\"1\" class=\"dataframe\">\n",
       "  <thead>\n",
       "    <tr>\n",
       "      <th></th>\n",
       "      <th>testgroup</th>\n",
       "      <th colspan=\"8\" halign=\"left\">revenue</th>\n",
       "    </tr>\n",
       "    <tr>\n",
       "      <th></th>\n",
       "      <th></th>\n",
       "      <th>count</th>\n",
       "      <th>mean</th>\n",
       "      <th>std</th>\n",
       "      <th>min</th>\n",
       "      <th>25%</th>\n",
       "      <th>50%</th>\n",
       "      <th>75%</th>\n",
       "      <th>max</th>\n",
       "    </tr>\n",
       "  </thead>\n",
       "  <tbody>\n",
       "    <tr>\n",
       "      <th>0</th>\n",
       "      <td>a</td>\n",
       "      <td>202103.0</td>\n",
       "      <td>25.413720</td>\n",
       "      <td>920.768137</td>\n",
       "      <td>0.0</td>\n",
       "      <td>0.0</td>\n",
       "      <td>0.0</td>\n",
       "      <td>0.0</td>\n",
       "      <td>37433.0</td>\n",
       "    </tr>\n",
       "    <tr>\n",
       "      <th>1</th>\n",
       "      <td>b</td>\n",
       "      <td>202667.0</td>\n",
       "      <td>26.751287</td>\n",
       "      <td>287.324162</td>\n",
       "      <td>0.0</td>\n",
       "      <td>0.0</td>\n",
       "      <td>0.0</td>\n",
       "      <td>0.0</td>\n",
       "      <td>4000.0</td>\n",
       "    </tr>\n",
       "  </tbody>\n",
       "</table>\n",
       "</div>"
      ],
      "text/plain": [
       "  testgroup   revenue                                                    \n",
       "                count       mean         std  min  25%  50%  75%      max\n",
       "0         a  202103.0  25.413720  920.768137  0.0  0.0  0.0  0.0  37433.0\n",
       "1         b  202667.0  26.751287  287.324162  0.0  0.0  0.0  0.0   4000.0"
      ]
     },
     "execution_count": 41,
     "metadata": {},
     "output_type": "execute_result"
    }
   ],
   "source": [
    "df.groupby('testgroup', as_index = False).agg({'revenue':'describe'})"
   ]
  },
  {
   "cell_type": "markdown",
   "metadata": {},
   "source": [
    "Группы по числу пользователей у нас примерно одинаковые. Судя по значениям квартилей большинство пользователей в группах являются не платящими, а максимально значение revenue в группах на порядок расходится. "
   ]
  },
  {
   "cell_type": "markdown",
   "metadata": {},
   "source": [
    "Посмотрим распределения выручки у платящих пользователей."
   ]
  },
  {
   "cell_type": "code",
   "execution_count": 42,
   "metadata": {},
   "outputs": [
    {
     "data": {
      "image/png": "[encoded data removed]",
      "text/plain": [
       "<Figure size 360x360 with 1 Axes>"
      ]
     },
     "metadata": {
      "needs_background": "light"
     },
     "output_type": "display_data"
    }
   ],
   "source": [
    "sns.displot(df.query('revenue > 0 and testgroup == \"a\"').revenue, kde=False, bins = 100)\n",
    "\n",
    "plt.xlabel('Выручка', size=10)\n",
    "plt.ylabel('Частота', size=10)\n",
    "plt.title('Распределение выручки группы \"a\"', size=15)\n",
    "plt.show()"
   ]
  },
  {
   "cell_type": "code",
   "execution_count": 43,
   "metadata": {},
   "outputs": [
    {
     "data": {
      "image/png": "[encoded data removed]",
      "text/plain": [
       "<Figure size 360x360 with 1 Axes>"
      ]
     },
     "metadata": {
      "needs_background": "light"
     },
     "output_type": "display_data"
    }
   ],
   "source": [
    "sns.displot(df.query('revenue > 0 and testgroup == \"b\"').revenue, kde=False, bins = 100)\n",
    "\n",
    "plt.xlabel('Выручка', size=10)\n",
    "plt.ylabel('Частота', size=10)\n",
    "plt.title('Распределение выручки группы \"b\"', size=15)\n",
    "plt.show()"
   ]
  },
  {
   "cell_type": "markdown",
   "metadata": {},
   "source": [
    "Распределение выручки в двух группах сильно отличается. В группе \"A\" много низкоплатящих пользвателей и есть те, кто потратил экстремально большую сумму денег. В группе \"B\" платящие пользователи распределилась равномерно в диапазоне от 2000 до 4000."
   ]
  },
  {
   "cell_type": "markdown",
   "metadata": {},
   "source": [
    "`Необходимо ответить на вопрос, какие метрики стоит проанализировать для принятия решения какой набор акционных предложений можно считать лучшим. По имеющимся у нас данным проанализируем следующие метрики: `\n",
    "\n",
    "- **Конверсия(CR)** - это число пользователей совершивших покупку, к общему числу пользователей.\n",
    "- **ARPU** - средний доход на одного пользователя.\n",
    "- **ARPPU** - средний доход на одного платящего пользователя."
   ]
  },
  {
   "cell_type": "markdown",
   "metadata": {},
   "source": [
    "Сформируем данные для подсчёта метрик, найдём общее число пользователей, число платящих пользователей, общую сумму покупок.\n",
    "\n",
    "Рассчитанные метрики и сведём их в одну таблицу."
   ]
  },
  {
   "cell_type": "code",
   "execution_count": 44,
   "metadata": {},
   "outputs": [],
   "source": [
    "# Создадим новый столбец для подсчёта пользователей, совершивших покупку\n",
    "# Если пользователь совершил покупку, то в столбце будет стоять \"True\", если нет, то \"False\", для этого использ. lambda функцию\n",
    "\n",
    "df['paying_users'] = df.revenue.apply(lambda x: True if x > 0 else False)"
   ]
  },
  {
   "cell_type": "code",
   "execution_count": 45,
   "metadata": {},
   "outputs": [
    {
     "data": {
      "text/html": [
       "<div>\n",
       "<style scoped>\n",
       "    .dataframe tbody tr th:only-of-type {\n",
       "        vertical-align: middle;\n",
       "    }\n",
       "\n",
       "    .dataframe tbody tr th {\n",
       "        vertical-align: top;\n",
       "    }\n",
       "\n",
       "    .dataframe thead th {\n",
       "        text-align: right;\n",
       "    }\n",
       "</style>\n",
       "<table border=\"1\" class=\"dataframe\">\n",
       "  <thead>\n",
       "    <tr style=\"text-align: right;\">\n",
       "      <th></th>\n",
       "      <th>user_id</th>\n",
       "      <th>revenue</th>\n",
       "      <th>testgroup</th>\n",
       "      <th>paying_users</th>\n",
       "    </tr>\n",
       "  </thead>\n",
       "  <tbody>\n",
       "    <tr>\n",
       "      <th>0</th>\n",
       "      <td>1</td>\n",
       "      <td>0</td>\n",
       "      <td>b</td>\n",
       "      <td>False</td>\n",
       "    </tr>\n",
       "    <tr>\n",
       "      <th>1</th>\n",
       "      <td>2</td>\n",
       "      <td>0</td>\n",
       "      <td>a</td>\n",
       "      <td>False</td>\n",
       "    </tr>\n",
       "    <tr>\n",
       "      <th>2</th>\n",
       "      <td>3</td>\n",
       "      <td>0</td>\n",
       "      <td>a</td>\n",
       "      <td>False</td>\n",
       "    </tr>\n",
       "    <tr>\n",
       "      <th>3</th>\n",
       "      <td>4</td>\n",
       "      <td>0</td>\n",
       "      <td>b</td>\n",
       "      <td>False</td>\n",
       "    </tr>\n",
       "    <tr>\n",
       "      <th>4</th>\n",
       "      <td>5</td>\n",
       "      <td>0</td>\n",
       "      <td>b</td>\n",
       "      <td>False</td>\n",
       "    </tr>\n",
       "  </tbody>\n",
       "</table>\n",
       "</div>"
      ],
      "text/plain": [
       "   user_id  revenue testgroup  paying_users\n",
       "0        1        0         b         False\n",
       "1        2        0         a         False\n",
       "2        3        0         a         False\n",
       "3        4        0         b         False\n",
       "4        5        0         b         False"
      ]
     },
     "execution_count": 45,
     "metadata": {},
     "output_type": "execute_result"
    }
   ],
   "source": [
    "df.head()"
   ]
  },
  {
   "cell_type": "code",
   "execution_count": 46,
   "metadata": {},
   "outputs": [],
   "source": [
    "# Сформируем данные для подсчёта метрик, найдём общее число пользователей, число платящих пользователей, общую сумму покупок \n",
    "\n",
    "metrics = df.groupby('testgroup', as_index = False)\\\n",
    "            .agg({'user_id':'count','paying_users':'sum','revenue':'sum'})\\\n",
    "            .rename(columns = {'user_id':'count_users','paying_users':'count_of_paying_users','revenue':'sum_revenue'})"
   ]
  },
  {
   "cell_type": "code",
   "execution_count": 47,
   "metadata": {},
   "outputs": [
    {
     "data": {
      "text/html": [
       "<div>\n",
       "<style scoped>\n",
       "    .dataframe tbody tr th:only-of-type {\n",
       "        vertical-align: middle;\n",
       "    }\n",
       "\n",
       "    .dataframe tbody tr th {\n",
       "        vertical-align: top;\n",
       "    }\n",
       "\n",
       "    .dataframe thead th {\n",
       "        text-align: right;\n",
       "    }\n",
       "</style>\n",
       "<table border=\"1\" class=\"dataframe\">\n",
       "  <thead>\n",
       "    <tr style=\"text-align: right;\">\n",
       "      <th></th>\n",
       "      <th>testgroup</th>\n",
       "      <th>count_users</th>\n",
       "      <th>count_of_paying_users</th>\n",
       "      <th>sum_revenue</th>\n",
       "    </tr>\n",
       "  </thead>\n",
       "  <tbody>\n",
       "    <tr>\n",
       "      <th>0</th>\n",
       "      <td>a</td>\n",
       "      <td>202103</td>\n",
       "      <td>1928</td>\n",
       "      <td>5136189</td>\n",
       "    </tr>\n",
       "    <tr>\n",
       "      <th>1</th>\n",
       "      <td>b</td>\n",
       "      <td>202667</td>\n",
       "      <td>1805</td>\n",
       "      <td>5421603</td>\n",
       "    </tr>\n",
       "  </tbody>\n",
       "</table>\n",
       "</div>"
      ],
      "text/plain": [
       "  testgroup  count_users  count_of_paying_users  sum_revenue\n",
       "0         a       202103                   1928      5136189\n",
       "1         b       202667                   1805      5421603"
      ]
     },
     "execution_count": 47,
     "metadata": {},
     "output_type": "execute_result"
    }
   ],
   "source": [
    "metrics"
   ]
  },
  {
   "cell_type": "markdown",
   "metadata": {},
   "source": [
    "#### Рассчитаем конверсию: "
   ]
  },
  {
   "cell_type": "code",
   "execution_count": 48,
   "metadata": {},
   "outputs": [],
   "source": [
    "metrics['CR,%'] = round((metrics.count_of_paying_users/metrics.count_users).mul(100),2)"
   ]
  },
  {
   "cell_type": "code",
   "execution_count": 49,
   "metadata": {},
   "outputs": [
    {
     "data": {
      "text/html": [
       "<div>\n",
       "<style scoped>\n",
       "    .dataframe tbody tr th:only-of-type {\n",
       "        vertical-align: middle;\n",
       "    }\n",
       "\n",
       "    .dataframe tbody tr th {\n",
       "        vertical-align: top;\n",
       "    }\n",
       "\n",
       "    .dataframe thead th {\n",
       "        text-align: right;\n",
       "    }\n",
       "</style>\n",
       "<table border=\"1\" class=\"dataframe\">\n",
       "  <thead>\n",
       "    <tr style=\"text-align: right;\">\n",
       "      <th></th>\n",
       "      <th>testgroup</th>\n",
       "      <th>count_users</th>\n",
       "      <th>count_of_paying_users</th>\n",
       "      <th>sum_revenue</th>\n",
       "      <th>CR,%</th>\n",
       "    </tr>\n",
       "  </thead>\n",
       "  <tbody>\n",
       "    <tr>\n",
       "      <th>0</th>\n",
       "      <td>a</td>\n",
       "      <td>202103</td>\n",
       "      <td>1928</td>\n",
       "      <td>5136189</td>\n",
       "      <td>0.95</td>\n",
       "    </tr>\n",
       "    <tr>\n",
       "      <th>1</th>\n",
       "      <td>b</td>\n",
       "      <td>202667</td>\n",
       "      <td>1805</td>\n",
       "      <td>5421603</td>\n",
       "      <td>0.89</td>\n",
       "    </tr>\n",
       "  </tbody>\n",
       "</table>\n",
       "</div>"
      ],
      "text/plain": [
       "  testgroup  count_users  count_of_paying_users  sum_revenue  CR,%\n",
       "0         a       202103                   1928      5136189  0.95\n",
       "1         b       202667                   1805      5421603  0.89"
      ]
     },
     "execution_count": 49,
     "metadata": {},
     "output_type": "execute_result"
    }
   ],
   "source": [
    "metrics"
   ]
  },
  {
   "cell_type": "markdown",
   "metadata": {},
   "source": [
    "#### Рассчитаем ARPU:"
   ]
  },
  {
   "cell_type": "code",
   "execution_count": 50,
   "metadata": {},
   "outputs": [],
   "source": [
    "metrics['ARPU'] = round(metrics.sum_revenue/metrics.count_users, 2)"
   ]
  },
  {
   "cell_type": "code",
   "execution_count": 51,
   "metadata": {},
   "outputs": [
    {
     "data": {
      "text/html": [
       "<div>\n",
       "<style scoped>\n",
       "    .dataframe tbody tr th:only-of-type {\n",
       "        vertical-align: middle;\n",
       "    }\n",
       "\n",
       "    .dataframe tbody tr th {\n",
       "        vertical-align: top;\n",
       "    }\n",
       "\n",
       "    .dataframe thead th {\n",
       "        text-align: right;\n",
       "    }\n",
       "</style>\n",
       "<table border=\"1\" class=\"dataframe\">\n",
       "  <thead>\n",
       "    <tr style=\"text-align: right;\">\n",
       "      <th></th>\n",
       "      <th>testgroup</th>\n",
       "      <th>count_users</th>\n",
       "      <th>count_of_paying_users</th>\n",
       "      <th>sum_revenue</th>\n",
       "      <th>CR,%</th>\n",
       "      <th>ARPU</th>\n",
       "    </tr>\n",
       "  </thead>\n",
       "  <tbody>\n",
       "    <tr>\n",
       "      <th>0</th>\n",
       "      <td>a</td>\n",
       "      <td>202103</td>\n",
       "      <td>1928</td>\n",
       "      <td>5136189</td>\n",
       "      <td>0.95</td>\n",
       "      <td>25.41</td>\n",
       "    </tr>\n",
       "    <tr>\n",
       "      <th>1</th>\n",
       "      <td>b</td>\n",
       "      <td>202667</td>\n",
       "      <td>1805</td>\n",
       "      <td>5421603</td>\n",
       "      <td>0.89</td>\n",
       "      <td>26.75</td>\n",
       "    </tr>\n",
       "  </tbody>\n",
       "</table>\n",
       "</div>"
      ],
      "text/plain": [
       "  testgroup  count_users  count_of_paying_users  sum_revenue  CR,%   ARPU\n",
       "0         a       202103                   1928      5136189  0.95  25.41\n",
       "1         b       202667                   1805      5421603  0.89  26.75"
      ]
     },
     "execution_count": 51,
     "metadata": {},
     "output_type": "execute_result"
    }
   ],
   "source": [
    "metrics"
   ]
  },
  {
   "cell_type": "markdown",
   "metadata": {},
   "source": [
    "#### Рассчитаем ARPPU:"
   ]
  },
  {
   "cell_type": "code",
   "execution_count": 52,
   "metadata": {},
   "outputs": [],
   "source": [
    "metrics['ARPPU'] = round(metrics.sum_revenue/metrics.count_of_paying_users, 2)"
   ]
  },
  {
   "cell_type": "markdown",
   "metadata": {},
   "source": [
    "### Таблица рассчитанных метрик в зависимости от группы:"
   ]
  },
  {
   "cell_type": "code",
   "execution_count": 53,
   "metadata": {},
   "outputs": [
    {
     "data": {
      "text/html": [
       "<div>\n",
       "<style scoped>\n",
       "    .dataframe tbody tr th:only-of-type {\n",
       "        vertical-align: middle;\n",
       "    }\n",
       "\n",
       "    .dataframe tbody tr th {\n",
       "        vertical-align: top;\n",
       "    }\n",
       "\n",
       "    .dataframe thead th {\n",
       "        text-align: right;\n",
       "    }\n",
       "</style>\n",
       "<table border=\"1\" class=\"dataframe\">\n",
       "  <thead>\n",
       "    <tr style=\"text-align: right;\">\n",
       "      <th></th>\n",
       "      <th>testgroup</th>\n",
       "      <th>count_users</th>\n",
       "      <th>count_of_paying_users</th>\n",
       "      <th>sum_revenue</th>\n",
       "      <th>CR,%</th>\n",
       "      <th>ARPU</th>\n",
       "      <th>ARPPU</th>\n",
       "    </tr>\n",
       "  </thead>\n",
       "  <tbody>\n",
       "    <tr>\n",
       "      <th>0</th>\n",
       "      <td>a</td>\n",
       "      <td>202103</td>\n",
       "      <td>1928</td>\n",
       "      <td>5136189</td>\n",
       "      <td>0.95</td>\n",
       "      <td>25.41</td>\n",
       "      <td>2664.00</td>\n",
       "    </tr>\n",
       "    <tr>\n",
       "      <th>1</th>\n",
       "      <td>b</td>\n",
       "      <td>202667</td>\n",
       "      <td>1805</td>\n",
       "      <td>5421603</td>\n",
       "      <td>0.89</td>\n",
       "      <td>26.75</td>\n",
       "      <td>3003.66</td>\n",
       "    </tr>\n",
       "  </tbody>\n",
       "</table>\n",
       "</div>"
      ],
      "text/plain": [
       "  testgroup  count_users  count_of_paying_users  sum_revenue  CR,%   ARPU  \\\n",
       "0         a       202103                   1928      5136189  0.95  25.41   \n",
       "1         b       202667                   1805      5421603  0.89  26.75   \n",
       "\n",
       "     ARPPU  \n",
       "0  2664.00  \n",
       "1  3003.66  "
      ]
     },
     "execution_count": 53,
     "metadata": {},
     "output_type": "execute_result"
    }
   ],
   "source": [
    "metrics"
   ]
  },
  {
   "cell_type": "code",
   "execution_count": 54,
   "metadata": {},
   "outputs": [
    {
     "name": "stdout",
     "output_type": "stream",
     "text": [
      "ARPU в тестовой группе выше на 5%\n",
      "ARPPU в тестовой группе выше на 13%\n",
      "Конверсия в контрольной группе выше на 0.06%\n"
     ]
    }
   ],
   "source": [
    "print(f'ARPU в тестовой группе выше на {round(((metrics.ARPU[1]/metrics.ARPU[0]) - 1)*100)}%')\n",
    "print(f'ARPPU в тестовой группе выше на {round(((metrics.ARPPU[1]/metrics.ARPPU[0]) - 1)*100)}%')\n",
    "print(f'Конверсия в контрольной группе выше на {round(metrics[\"CR,%\"][0] - metrics[\"CR,%\"][1],2)}%')"
   ]
  },
  {
   "cell_type": "markdown",
   "metadata": {},
   "source": [
    "**Метрики ARPU, ARPPU выше в тестовой группе, но конверсия выше в контрольной группе. Необходимо выяснить, являются ли эти значения статистически значимыми.**"
   ]
  },
  {
   "cell_type": "markdown",
   "metadata": {},
   "source": [
    "Проведем тест Левена на гомогенность дисперсий и проверим данные на нормальность для подбора статистического критерия."
   ]
  },
  {
   "cell_type": "markdown",
   "metadata": {},
   "source": [
    "`Проверим распределения данных на нормальность`"
   ]
  },
  {
   "cell_type": "code",
   "execution_count": 55,
   "metadata": {},
   "outputs": [
    {
     "data": {
      "text/plain": [
       "<matplotlib.axes._subplots.AxesSubplot at 0x7f8451661e80>"
      ]
     },
     "execution_count": 55,
     "metadata": {},
     "output_type": "execute_result"
    },
    {
     "data": {
      "image/png": "[encoded data removed]",
      "text/plain": [
       "<Figure size 432x288 with 1 Axes>"
      ]
     },
     "metadata": {
      "needs_background": "light"
     },
     "output_type": "display_data"
    }
   ],
   "source": [
    "sns.boxplot(x = 'testgroup', y = 'revenue', data = df)"
   ]
  },
  {
   "cell_type": "code",
   "execution_count": 56,
   "metadata": {},
   "outputs": [
    {
     "data": {
      "text/plain": [
       "<seaborn.axisgrid.FacetGrid at 0x7f8451cec7f0>"
      ]
     },
     "execution_count": 56,
     "metadata": {},
     "output_type": "execute_result"
    },
    {
     "data": {
      "image/png": "[encoded data removed]",
      "text/plain": [
       "<Figure size 360x360 with 1 Axes>"
      ]
     },
     "metadata": {
      "needs_background": "light"
     },
     "output_type": "display_data"
    }
   ],
   "source": [
    "sns.displot(df[df.testgroup == 'a'].revenue, kde=False)"
   ]
  },
  {
   "cell_type": "code",
   "execution_count": 57,
   "metadata": {},
   "outputs": [
    {
     "data": {
      "text/plain": [
       "<seaborn.axisgrid.FacetGrid at 0x7f84513d45c0>"
      ]
     },
     "execution_count": 57,
     "metadata": {},
     "output_type": "execute_result"
    },
    {
     "data": {
      "image/png": "[encoded data removed]",
      "text/plain": [
       "<Figure size 360x360 with 1 Axes>"
      ]
     },
     "metadata": {
      "needs_background": "light"
     },
     "output_type": "display_data"
    }
   ],
   "source": [
    "sns.displot(df[df.testgroup == 'b'].revenue, kde=False)"
   ]
  },
  {
   "cell_type": "code",
   "execution_count": 58,
   "metadata": {},
   "outputs": [
    {
     "data": {
      "image/png": "[encoded data removed]",
      "text/plain": [
       "<Figure size 432x288 with 1 Axes>"
      ]
     },
     "metadata": {
      "needs_background": "light"
     },
     "output_type": "display_data"
    }
   ],
   "source": [
    "import statsmodels.api as sm\n",
    "fig = sm.qqplot(df[df.testgroup == 'a'].revenue, line='r')\n",
    "plt.show()"
   ]
  },
  {
   "cell_type": "code",
   "execution_count": 59,
   "metadata": {},
   "outputs": [
    {
     "data": {
      "image/png": "[encoded data removed]",
      "text/plain": [
       "<Figure size 432x288 with 1 Axes>"
      ]
     },
     "metadata": {
      "needs_background": "light"
     },
     "output_type": "display_data"
    }
   ],
   "source": [
    "import statsmodels.api as sm\n",
    "fig = sm.qqplot(df[df.testgroup == 'b'].revenue, line='r')\n",
    "plt.show()"
   ]
  },
  {
   "cell_type": "markdown",
   "metadata": {},
   "source": [
    "- Распределение значений в тестовой и в контрольной группе не близко к нормальному. В тестовой группе присутствуют выбросы."
   ]
  },
  {
   "cell_type": "markdown",
   "metadata": {},
   "source": [
    "`Проверим данные на нормальность с момощью функции scipy.stats.normaltest()`"
   ]
  },
  {
   "cell_type": "markdown",
   "metadata": {},
   "source": [
    "Гипотезы:\n",
    "- $H_0$: распределение не отличается от нормального\n",
    "- $H_1$: распределение отличается от нормального"
   ]
  },
  {
   "cell_type": "code",
   "execution_count": 60,
   "metadata": {
    "scrolled": true
   },
   "outputs": [
    {
     "name": "stdout",
     "output_type": "stream",
     "text": [
      "NormaltestResult(statistic=585152.7312728433, pvalue=0.0)\n",
      "NormaltestResult(statistic=326622.39540856465, pvalue=0.0)\n"
     ]
    }
   ],
   "source": [
    "print(normaltest(df[df.testgroup == 'a'].revenue))\n",
    "print(normaltest(df[df.testgroup == 'b'].revenue))"
   ]
  },
  {
   "cell_type": "markdown",
   "metadata": {},
   "source": [
    "- Отвергаем Н0, оба распределения сильно отличаются от нормального."
   ]
  },
  {
   "cell_type": "markdown",
   "metadata": {},
   "source": [
    "`Проверим гомогенность дисперсии внутри групп с помощью теста Левена:`"
   ]
  },
  {
   "cell_type": "markdown",
   "metadata": {},
   "source": [
    "Гипотезы:\n",
    "- $H_0$: дисперсии внутри групп гомогенны\n",
    "- $H_1$: дисперсии внутри групп не гомогенны"
   ]
  },
  {
   "cell_type": "code",
   "execution_count": 61,
   "metadata": {},
   "outputs": [
    {
     "name": "stdout",
     "output_type": "stream",
     "text": [
      "Принимаем H0, дисперсии внутри групп гомогенны, pvalue = 0.5324948591043842\n"
     ]
    }
   ],
   "source": [
    "st, pv = levene(df[df.testgroup == 'a'].revenue, df[df.testgroup == 'b'].revenue)\n",
    "\n",
    "prob = 0.95\n",
    "alpha = 1.0 - prob\n",
    "if pv <= alpha:\n",
    "    print(f'Отклоняем H0, дисперсии внутри групп не гомогенны, pvalue = {pv}')\n",
    "else:\n",
    "    print(f'Принимаем H0, дисперсии внутри групп гомогенны, pvalue = {pv}')"
   ]
  },
  {
   "cell_type": "markdown",
   "metadata": {},
   "source": [
    "#### Теперь необходимо ответить на вопрос, является ли увеличение ARPU на 5% статистически значимыми или это произошло случайно. "
   ]
  },
  {
   "cell_type": "markdown",
   "metadata": {},
   "source": [
    "Поскольку U-критерий Манна Уитни тяжело интерпретировать, воспользуемся методом bootsrap для сравнения двух групп между собой."
   ]
  },
  {
   "cell_type": "markdown",
   "metadata": {},
   "source": [
    "#### Проведём статистический анализ методом bootstrap"
   ]
  },
  {
   "cell_type": "markdown",
   "metadata": {},
   "source": [
    "Гипотезы:\n",
    "- $H_0$: нет разницы в средней выручке между тестовой и контрольной группой\n",
    "- $H_1$: есть разница в средней выручке между тестовой и контрольной группой "
   ]
  },
  {
   "cell_type": "code",
   "execution_count": 63,
   "metadata": {},
   "outputs": [],
   "source": [
    "def get_bootstrap(\n",
    "    data_column_1, \n",
    "    data_column_2, \n",
    "    boot_it = 1000,\n",
    "    statistic = np.mean,\n",
    "    bootstrap_conf_level = 0.95 \n",
    "):\n",
    "    \"\"\"\n",
    "    Функция для проверки гипотезы с помощью бутстрапа\n",
    "    \n",
    "    Параметры:\n",
    "    -----------\n",
    "    data_column_1: числовые значения первой выборки\n",
    "    data_column_2: числовые значения второй выборки\n",
    "    boot_it: количество бутстрэп-подвыборок\n",
    "    statistic: интересующая нас статистика\n",
    "    bootstrap_conf_level: уровень значимости\n",
    "    \n",
    "    \"\"\"\n",
    "    boot_data = []\n",
    "    for i in tqdm(range(boot_it)): # извлекаем подвыборки\n",
    "        samples_1 = data_column_1.sample(\n",
    "            len(data_column_1), \n",
    "            replace = True # параметр возвращения\n",
    "        ).values\n",
    "        \n",
    "        samples_2 = data_column_2.sample(\n",
    "            len(data_column_1), \n",
    "            replace = True\n",
    "        ).values\n",
    "        \n",
    "        boot_data.append(statistic(samples_1)-statistic(samples_2)) # mean() - применяем статистику\n",
    "        \n",
    "    pd_boot_data = pd.DataFrame(boot_data)\n",
    "        \n",
    "    left_quant = (1 - bootstrap_conf_level)/2\n",
    "    right_quant = 1 - (1 - bootstrap_conf_level) / 2\n",
    "    quants = pd_boot_data.quantile([left_quant, right_quant])\n",
    "        \n",
    "    p_1 = norm.cdf(\n",
    "        x = 0, \n",
    "        loc = np.mean(boot_data), \n",
    "        scale = np.std(boot_data)\n",
    "    )\n",
    "    p_2 = norm.cdf(\n",
    "        x = 0, \n",
    "        loc = -np.mean(boot_data), \n",
    "        scale = np.std(boot_data)\n",
    "    )\n",
    "    p_value = min(p_1, p_2) * 2\n",
    "        \n",
    "    # Визуализация\n",
    "    _, _, bars = plt.hist(pd_boot_data[0], bins = 50)\n",
    "    for bar in bars:\n",
    "        if bar.get_x() <= quants.iloc[0][0] or bar.get_x() >= quants.iloc[1][0]:\n",
    "            bar.set_facecolor('red')\n",
    "        else: \n",
    "            bar.set_facecolor('grey')\n",
    "            bar.set_edgecolor('black')\n",
    "    \n",
    "    plt.style.use('ggplot')\n",
    "    plt.vlines(quants,ymin=0,ymax=50,linestyle='--')\n",
    "    plt.xlabel('boot_data')\n",
    "    plt.ylabel('frequency')\n",
    "    plt.title(\"Histogram of boot_data\")\n",
    "    plt.show()\n",
    "       \n",
    "    return {\"p_value\": p_value}"
   ]
  },
  {
   "cell_type": "code",
   "execution_count": 64,
   "metadata": {},
   "outputs": [
    {
     "data": {
      "application/vnd.jupyter.widget-view+json": {
       "model_id": "51276a138c9149d981e76c6d22c8554f",
       "version_major": 2,
       "version_minor": 0
      },
      "text/plain": [
       "HBox(children=(FloatProgress(value=0.0, max=1000.0), HTML(value='')))"
      ]
     },
     "metadata": {},
     "output_type": "display_data"
    },
    {
     "name": "stdout",
     "output_type": "stream",
     "text": [
      "\n"
     ]
    },
    {
     "data": {
      "image/png": "[encoded data removed]",
      "text/plain": [
       "<Figure size 432x288 with 1 Axes>"
      ]
     },
     "metadata": {
      "needs_background": "light"
     },
     "output_type": "display_data"
    },
    {
     "data": {
      "text/plain": [
       "{'p_value': 0.5315626923038381}"
      ]
     },
     "execution_count": 64,
     "metadata": {},
     "output_type": "execute_result"
    }
   ],
   "source": [
    "#  бутстрап средних для ARPU\n",
    "get_bootstrap(\n",
    "    df[df.testgroup == 'a'].revenue, # числовые значения первой выборки\n",
    "    df[df.testgroup == 'b'].revenue, # числовые значения второй выборки\n",
    "    boot_it = 1000, # количество бутстрэп-подвыборок\n",
    "    statistic = np.mean, # интересующая нас статистика\n",
    "    bootstrap_conf_level = 0.95 # уровень значимости\n",
    ")"
   ]
  },
  {
   "cell_type": "markdown",
   "metadata": {},
   "source": [
    "**p_value > 0.05, величина ARPU не зависит от группы пользователей**"
   ]
  },
  {
   "cell_type": "markdown",
   "metadata": {},
   "source": [
    "#### Теперь необходимо ответить на вопрос, является ли увеличение ARPPU в тестовой группе на 13% статистически значимыми."
   ]
  },
  {
   "cell_type": "markdown",
   "metadata": {},
   "source": [
    "Отберём только платящих пользователей и с помощью бутстрапа средних посчитаем, является ли увеличение ARPPU статистически значимым."
   ]
  },
  {
   "cell_type": "markdown",
   "metadata": {},
   "source": [
    "Гипотезы:\n",
    "- $H_0$: нет разницы в средней выручке между тестовой и контрольной группой\n",
    "- $H_1$: есть разница в средней выручке между тестовой и контрольной группой "
   ]
  },
  {
   "cell_type": "code",
   "execution_count": 65,
   "metadata": {},
   "outputs": [
    {
     "data": {
      "application/vnd.jupyter.widget-view+json": {
       "model_id": "7e03d453e89841c2b866788904f69fc2",
       "version_major": 2,
       "version_minor": 0
      },
      "text/plain": [
       "HBox(children=(FloatProgress(value=0.0, max=1000.0), HTML(value='')))"
      ]
     },
     "metadata": {},
     "output_type": "display_data"
    },
    {
     "name": "stdout",
     "output_type": "stream",
     "text": [
      "\n"
     ]
    },
    {
     "data": {
      "image/png": "[encoded data removed]",
      "text/plain": [
       "<Figure size 432x288 with 1 Axes>"
      ]
     },
     "metadata": {},
     "output_type": "display_data"
    },
    {
     "data": {
      "text/plain": [
       "{'p_value': 0.0825170178128701}"
      ]
     },
     "execution_count": 65,
     "metadata": {},
     "output_type": "execute_result"
    }
   ],
   "source": [
    "#  бутстрап средних для ARPPU\n",
    "get_bootstrap(\n",
    "    df.query('testgroup == \"a\" and paying_users == True').revenue, # числовые значения первой выборки\n",
    "    df.query('testgroup == \"b\" and paying_users == True').revenue, # числовые значения второй выборки\n",
    "    boot_it = 1000, # количество бутстрэп-подвыборок\n",
    "    statistic = np.mean, # интересующая нас статистика\n",
    "    bootstrap_conf_level = 0.95 # уровень значимости\n",
    ")"
   ]
  },
  {
   "cell_type": "markdown",
   "metadata": {},
   "source": [
    "p_value > 0.05, следовательно величина ARPPU не зависит от группы пользователей."
   ]
  },
  {
   "cell_type": "markdown",
   "metadata": {},
   "source": [
    "### Оцениваем конверсию "
   ]
  },
  {
   "cell_type": "markdown",
   "metadata": {},
   "source": [
    "Конверсия(CR) контрольной группы выше, чем в тестовой, необходимо понять, является ли это различие статистически значимым. Для этого проверим, зависит ли доля оплативших пользователей от группы с помощью таблицы сопряженности и функции хи-квадрат."
   ]
  },
  {
   "cell_type": "markdown",
   "metadata": {},
   "source": [
    "Гипотезы:\n",
    "- $H_0$: факт оплаты не зависит от группы\n",
    "- $H_1$: факт оплаты зависит от группы  "
   ]
  },
  {
   "cell_type": "code",
   "execution_count": 66,
   "metadata": {},
   "outputs": [
    {
     "data": {
      "text/html": [
       "<div>\n",
       "<style scoped>\n",
       "    .dataframe tbody tr th:only-of-type {\n",
       "        vertical-align: middle;\n",
       "    }\n",
       "\n",
       "    .dataframe tbody tr th {\n",
       "        vertical-align: top;\n",
       "    }\n",
       "\n",
       "    .dataframe thead th {\n",
       "        text-align: right;\n",
       "    }\n",
       "</style>\n",
       "<table border=\"1\" class=\"dataframe\">\n",
       "  <thead>\n",
       "    <tr style=\"text-align: right;\">\n",
       "      <th>testgroup</th>\n",
       "      <th>a</th>\n",
       "      <th>b</th>\n",
       "    </tr>\n",
       "    <tr>\n",
       "      <th>paying_users</th>\n",
       "      <th></th>\n",
       "      <th></th>\n",
       "    </tr>\n",
       "  </thead>\n",
       "  <tbody>\n",
       "    <tr>\n",
       "      <th>False</th>\n",
       "      <td>200175</td>\n",
       "      <td>200862</td>\n",
       "    </tr>\n",
       "    <tr>\n",
       "      <th>True</th>\n",
       "      <td>1928</td>\n",
       "      <td>1805</td>\n",
       "    </tr>\n",
       "  </tbody>\n",
       "</table>\n",
       "</div>"
      ],
      "text/plain": [
       "testgroup          a       b\n",
       "paying_users                \n",
       "False         200175  200862\n",
       "True            1928    1805"
      ]
     },
     "execution_count": 66,
     "metadata": {},
     "output_type": "execute_result"
    }
   ],
   "source": [
    "# создаём таблицу сопряженности, где True - пользователь потратил деньги, False - не потратил\n",
    "\n",
    "pd.crosstab(df.paying_users, df.testgroup)"
   ]
  },
  {
   "cell_type": "code",
   "execution_count": 67,
   "metadata": {},
   "outputs": [
    {
     "name": "stdout",
     "output_type": "stream",
     "text": [
      "Отклоняем H0, факт оплаты зависит от группы, pvalue = 0.03647561892312613\n"
     ]
    }
   ],
   "source": [
    "# применяем фунцию хи-квадрат\n",
    "stat, pv, dof, expected = chi2_contingency(pd.crosstab(df.paying_users, df.testgroup))\n",
    "\n",
    "prob = 0.95\n",
    "alpha = 1.0 - prob\n",
    "if pv <= alpha:\n",
    "    print(f'Отклоняем H0, факт оплаты зависит от группы, pvalue = {pv}')\n",
    "else:\n",
    "    print(f'Принимаем H0, факт оплаты не зависит от группы , pvalue = {pv}')"
   ]
  },
  {
   "cell_type": "markdown",
   "metadata": {},
   "source": [
    "## Выводы: "
   ]
  },
  {
   "cell_type": "markdown",
   "metadata": {},
   "source": [
    "Для принятия решения в какой группе набор акционных предложений можно считать лучшим по имеющимся у нас данным были рассчитаны  следующие метрики: конверсия(CR), средний доход на одного пользователя(ARPU), средний доход на одного платящего пользователя(ARPPU).\n",
    "\n",
    "В результате расчёта метрик получилось, что:\n",
    "- ARPU в тестовой группе выше на 5%\n",
    "- ARPPU в тестовой группе выше на 13%\n",
    "- Конверсия в контрольной группе выше на 0.06%"
   ]
  },
  {
   "cell_type": "markdown",
   "metadata": {},
   "source": [
    "Для обоснования, является ли различие в метриках статистически значимым был применён бутстрап анализ и критерий хи-квадрат. \n",
    "\n",
    "В результате анализа не выявлено статистически значимой разницы между группами для метрик ARPU и ARPPU,то есть нет разницы в средней выручке между тестовой и контрольной группой, но удалось выявить статистически важное различие факта оплаты в зависимости от группы. Таким образом, увеличение ARPU и ARPPU в тестовой группе вероятнее было получено случайно и никак не свзяно с набором акционных предложений."
   ]
  },
  {
   "cell_type": "markdown",
   "metadata": {},
   "source": [
    "По результатам статистического анализа нельзя сказать, какой набор акционных предложений можно считать лучшим, всё зависит от того, какое поведение пользователей больше удовлетворяет бизнес-целям компании. Если бизнес интересует большее число платящих пользователей, но готовых тратить меньшие суммы, то не стоит вводить новый набор акционных предложений на всех пользователей, если нужно уменьшить количество платящих пользователей, но заставить их платить больше, то стоит ввести новый набор акционнных предложений."
   ]
  },
  {
   "cell_type": "markdown",
   "metadata": {},
   "source": [
    "# Задание 3\n",
    "\n",
    "В игре Plants & Gardens каждый месяц проводятся тематические события, ограниченные по времени. В них игроки могут получить уникальные предметы для сада и персонажей, дополнительные монеты или бонусы. Для получения награды требуется пройти ряд уровней за определенное время. С помощью каких метрик можно оценить результаты последнего прошедшего события?"
   ]
  },
  {
   "cell_type": "markdown",
   "metadata": {},
   "source": [
    "### Для оценки результатов прошедшего тематического события можно использовать следующий метрики:"
   ]
  },
  {
   "cell_type": "markdown",
   "metadata": {},
   "source": [
    "- **Среднее время проведённое в игре**. "
   ]
  },
  {
   "cell_type": "markdown",
   "metadata": {},
   "source": [
    "Анализ времени, проведённого пользователями в игре, помогает понять как улучшить игровой процесс и сделать его более интересным и захватывающим. Например, если игроки проводят много времени на определенных уровнях или заданиях, то можно облегчить прохождение уровня, и наоборот, если уровень слишком лёгкий и пользователи проходят его быстро, то можно усложнить его. Так же количество времени, проведённое в игре может быть связано с количеством денег, которые игроки готовы потратить на покупки в игре. "
   ]
  },
  {
   "cell_type": "markdown",
   "metadata": {},
   "source": [
    "- **Конверсия:**\n",
    "\n",
    "    - соотношение количества игроков, успешно прошедших все уровни тематического события, к общему количеству участников;  \n",
    "    - отношение количества игроков, совершивших покупку, к общему количеству участников; \n",
    "    - отношение количество игроков, принявших участие в событии, к общему числу пользователей в игре.и т.д."
   ]
  },
  {
   "cell_type": "markdown",
   "metadata": {},
   "source": [
    "1. Если данная метрика достаточно высокая, то это тематическое событие было интересно пользователям. Если нет, то стоит разобраться по какой причине и доработать продукт.\n",
    "2. Можно объединить пользователей по когортам и определить, какие типы пользователей наиболее заинтересованы в продукте.\n",
    "3. Оценка потенциальной доходности от продукта. Если данная метрика высокая, это может привести к увеличению продаж или дохода в будущем, поскольку пользователям понравилось это тематическое событие, вероятно и продукт в целом.\n",
    "4. Если значение метрики низкое, это может указывать на то, что стоит доработать это тематическое событие(улучшить игровой процесс, изменить дизайн и прочее)."
   ]
  },
  {
   "cell_type": "markdown",
   "metadata": {},
   "source": [
    "- **ARPU** - средний доход на одного пользователя / **ARPPU** - средний доход на одного платящего пользователя."
   ]
  },
  {
   "cell_type": "markdown",
   "metadata": {},
   "source": [
    "Если метрика во время тематического события выросла, значит пользователи стали лояльнее, игра стала доходнее, маркетинг эффективный, игровой процесс интересный."
   ]
  },
  {
   "cell_type": "markdown",
   "metadata": {},
   "source": [
    "- **Сумма дохода от тематичского мероприятия**"
   ]
  },
  {
   "cell_type": "markdown",
   "metadata": {},
   "source": [
    "- **DAU, WAU, MAU** - количество уникальных пользователей, которые использовали игру в течение одного дня/недели/месяца."
   ]
  },
  {
   "cell_type": "markdown",
   "metadata": {},
   "source": [
    "Повышение DAU, WAU и MAU может говорить о росте популярности игры и успешности маркетинговых компаний, тематического события."
   ]
  },
  {
   "cell_type": "markdown",
   "metadata": {},
   "source": [
    "`Предположим, в другом событии мы усложнили механику событий так, что при каждой неудачной попытке выполнения уровня игрок будет откатываться на несколько уровней назад. Изменится ли набор метрик оценки результата? Если да, то как?`"
   ]
  },
  {
   "cell_type": "markdown",
   "metadata": {},
   "source": [
    "При усложнении механики игры набор метрик можно оставить тот же. Важно следить за вовлечённостью пользователей в игру и метриками дохода, чтобы понимать, как сказываются изменения на поведение игроков. Дополнительно можно рассмотреть следующие метрики:"
   ]
  },
  {
   "cell_type": "markdown",
   "metadata": {},
   "source": [
    "- Процент игроков, покинувших игру после неудачных попыток прохождения уровня в разерезе количества поражений.\n",
    "- Процент игроков, вернувшихся в игру после отката на несколько уровней.\n",
    "- Средняя сумма покупок пользователей после поражения в разерезе количества поражений.\n",
    "- Среднее количество поражений перед выходом из игры.\n",
    "- Тратят ли пользователи больше денег после отката на несколько уровней."
   ]
  }
 ],
 "metadata": {
  "kernelspec": {
   "display_name": "Python 3",
   "language": "python",
   "name": "python3"
  },
  "language_info": {
   "codemirror_mode": {
    "name": "ipython",
    "version": 3
   },
   "file_extension": ".py",
   "mimetype": "text/x-python",
   "name": "python",
   "nbconvert_exporter": "python",
   "pygments_lexer": "ipython3",
   "version": "3.8.5"
  }
 },
 "nbformat": 4,
 "nbformat_minor": 4
}
